{
 "cells": [
  {
   "cell_type": "code",
   "execution_count": null,
   "metadata": {
    "scrolled": false
   },
   "outputs": [],
   "source": [
    "import pandas as pd\n",
    "from sqlalchemy import create_engine\n",
    "\n",
    "from config import (user, password, port, address, database)\n"
   ]
  },
  {
   "cell_type": "markdown",
   "metadata": {},
   "source": [
    "# EXTRACT"
   ]
  },
  {
   "cell_type": "markdown",
   "metadata": {},
   "source": [
    "### We have three data sources that we are extracting from:\n",
    "    - Fuel Stations: https://afdc.energy.gov/stations/#/analyze?fuel=ELEC&ev_levels=all \n",
    "    - Electric Vehicle registrations by state: https://afdc.energy.gov/data/10962\n",
    "    - States and abbrviations: https://www.50states.com/abbreviations.htm    "
   ]
  },
  {
   "cell_type": "markdown",
   "metadata": {},
   "source": [
    "### Process:\n",
    "    Fuel Stations was a csv files found on above source site.\n",
    "    Electric Vehicle registrations by state was a CSv files found on above source site.\n",
    "    States and abbrviations was pulled from a table on the aforementioned website. It was copied into an Excel file for use.\n",
    "    \n",
    "    All three csv files were extracted into their own pandas dataframe.\n",
    "    \n",
    "    We used 2 out of 64 columns from the Fuel Stations csv; State & Fuel Type Code.\n",
    "    \n",
    "    We used 2 out of 2 columns from the Electric Vehicle registrations by state csv; State and Registration.  \n",
    "    \n",
    "    We used 2 out of 2 columns from the States and abbrviations csv file that we created; US State and Abbreviation\n",
    "    \n",
    "    \n",
    "    "
   ]
  },
  {
   "cell_type": "markdown",
   "metadata": {},
   "source": [
    "### Store Fuel Stations CSV into Dataframe"
   ]
  },
  {
   "cell_type": "code",
   "execution_count": null,
   "metadata": {
    "scrolled": true
   },
   "outputs": [],
   "source": [
    "csv_file = \"Resources/Fuel Stations all Fuel Types USA.csv\"\n",
    "fuel_stations_df = pd.read_csv(csv_file,low_memory=False)\n",
    "fuel_stations_df.head()"
   ]
  },
  {
   "cell_type": "markdown",
   "metadata": {},
   "source": [
    "### Create new data Frame with columns"
   ]
  },
  {
   "cell_type": "code",
   "execution_count": null,
   "metadata": {},
   "outputs": [],
   "source": [
    "station_cols = [ \"State\",\"Fuel Type Code\"]\n",
    "new_fuel_stations_df = fuel_stations_df[station_cols].copy()\n",
    "new_fuel_stations_df.head()"
   ]
  },
  {
   "cell_type": "markdown",
   "metadata": {},
   "source": [
    "# TRANSFORM"
   ]
  },
  {
   "cell_type": "markdown",
   "metadata": {},
   "source": [
    "#### Fuel Stations dataframe transformations: \n",
    "        1. Rename columns \n",
    "        2. Selected for Fuel Type of Electric only\n",
    "        3. Set the index for the priimary key \n",
    "        "
   ]
  },
  {
   "cell_type": "markdown",
   "metadata": {},
   "source": [
    "#### State Registrations dataframe:\n",
    "        1. Changed column header names"
   ]
  },
  {
   "cell_type": "markdown",
   "metadata": {},
   "source": [
    "#### State Abbreviations dataframe:\n",
    "        1. Changed column header names"
   ]
  },
  {
   "cell_type": "markdown",
   "metadata": {},
   "source": [
    "### Transform Fuel Stations Data Frame"
   ]
  },
  {
   "cell_type": "code",
   "execution_count": null,
   "metadata": {},
   "outputs": [],
   "source": [
    "# Rename Column Headers & Clean up Duplicates\n",
    "\n",
    "new_fuel_stations_df = new_fuel_stations_df.rename(columns={\"State\": \"state_abbr\",\n",
    "                                                           \"Fuel Type Code\": \"fuel_type\"})\n",
    "\n",
    "new_fuel_stations_df.head()"
   ]
  },
  {
   "cell_type": "code",
   "execution_count": null,
   "metadata": {},
   "outputs": [],
   "source": [
    "# Select all electric fuel types \n",
    "new_fuel_stations_df = new_fuel_stations_df[new_fuel_stations_df[\"fuel_type\"]==\"ELEC\"]\n",
    "\n",
    "new_fuel_stations_df.count()"
   ]
  },
  {
   "cell_type": "code",
   "execution_count": null,
   "metadata": {},
   "outputs": [],
   "source": [
    "new_fuel_stations_df = new_fuel_stations_df.reset_index(drop=True)\n",
    "new_fuel_stations_df.head()"
   ]
  },
  {
   "cell_type": "markdown",
   "metadata": {},
   "source": [
    "### Transform Registrations Data Frame"
   ]
  },
  {
   "cell_type": "code",
   "execution_count": null,
   "metadata": {},
   "outputs": [],
   "source": [
    "csv_file = \"Resources/10962_ev_registration_counts_by_state.csv\"\n",
    "registration_df = pd.read_csv(csv_file,low_memory=False)\n",
    "registration_df.dtypes"
   ]
  },
  {
   "cell_type": "code",
   "execution_count": null,
   "metadata": {},
   "outputs": [],
   "source": [
    "registration_cols = [\"State\",\"Registration Count\"]\n",
    "new_registration_df= registration_df[registration_cols].copy()\n",
    "new_registration_df.head()"
   ]
  },
  {
   "cell_type": "code",
   "execution_count": null,
   "metadata": {},
   "outputs": [],
   "source": [
    "new_registration_df = new_registration_df.rename(columns={\"State\":\"state\",\n",
    "                                                         \"Registration Count\":\"registrations\"})\n",
    "new_registration_df.head()"
   ]
  },
  {
   "cell_type": "markdown",
   "metadata": {},
   "source": [
    "### Transform State Abbreviations Data Frame"
   ]
  },
  {
   "cell_type": "code",
   "execution_count": null,
   "metadata": {},
   "outputs": [],
   "source": [
    "csv_file = \"Resources/states.csv\"\n",
    "states_df= pd.read_csv(csv_file, low_memory=False)\n",
    "states_df.head()"
   ]
  },
  {
   "cell_type": "code",
   "execution_count": null,
   "metadata": {},
   "outputs": [],
   "source": [
    "new_state_df = states_df.rename(columns={\"US STATE\":\"state\",\n",
    "                                           \"ABBREVIATION\":\"state_abbr\"})\n",
    "new_state_df.head()"
   ]
  },
  {
   "cell_type": "markdown",
   "metadata": {},
   "source": [
    "# LOAD"
   ]
  },
  {
   "cell_type": "markdown",
   "metadata": {},
   "source": [
    "### Steps\n",
    "1. Create database connection \n",
    "2. Load DataFrames into database"
   ]
  },
  {
   "cell_type": "markdown",
   "metadata": {},
   "source": [
    " ### Create Database Connection"
   ]
  },
  {
   "cell_type": "code",
   "execution_count": null,
   "metadata": {},
   "outputs": [],
   "source": [
    "engine = create_engine(f'postgresql://{user}:{password}@{address}:{port}/{database}')\n",
    "\n",
    "conn = engine.connect()"
   ]
  },
  {
   "cell_type": "code",
   "execution_count": null,
   "metadata": {},
   "outputs": [],
   "source": [
    "engine.table_names()"
   ]
  },
  {
   "cell_type": "code",
   "execution_count": null,
   "metadata": {},
   "outputs": [],
   "source": [
    "new_fuel_stations_df.to_sql(name='fuel_stations', con = engine, if_exists='append', index=True)"
   ]
  },
  {
   "cell_type": "code",
   "execution_count": null,
   "metadata": {},
   "outputs": [],
   "source": [
    "new_registration_df.to_sql(name='registrations', con = engine, if_exists='append', index=True)"
   ]
  },
  {
   "cell_type": "code",
   "execution_count": null,
   "metadata": {},
   "outputs": [],
   "source": [
    "new_state_df.to_sql(name='state_abbreviations', con = engine, if_exists='append', index=True)"
   ]
  }
 ],
 "metadata": {
  "kernelspec": {
   "display_name": "Python 3",
   "language": "python",
   "name": "python3"
  },
  "language_info": {
   "codemirror_mode": {
    "name": "ipython",
    "version": 3
   },
   "file_extension": ".py",
   "mimetype": "text/x-python",
   "name": "python",
   "nbconvert_exporter": "python",
   "pygments_lexer": "ipython3",
   "version": "3.6.10"
  }
 },
 "nbformat": 4,
 "nbformat_minor": 2
}
