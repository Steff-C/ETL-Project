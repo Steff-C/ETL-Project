{
 "cells": [
  {
   "cell_type": "code",
   "execution_count": null,
   "metadata": {
    "scrolled": false
   },
   "outputs": [],
   "source": [
    "import pandas as pd\n",
    "from sqlalchemy import create_engine\n",
    "\n",
    "from config import (user, password, port, address, database)\n"
   ]
  },
  {
   "cell_type": "markdown",
   "metadata": {},
   "source": [
    "# Store CSV into Dataframe"
   ]
  },
  {
   "cell_type": "code",
   "execution_count": null,
   "metadata": {
    "scrolled": true
   },
   "outputs": [],
   "source": [
    "csv_file = \"Resources/Fuel Stations all Fuel Types USA.csv\"\n",
    "fuel_stations_df = pd.read_csv(csv_file,low_memory=False)\n",
    "fuel_stations_df.head()"
   ]
  },
  {
   "cell_type": "markdown",
   "metadata": {},
   "source": [
    "# Create new data Frame with columns"
   ]
  },
  {
   "cell_type": "code",
   "execution_count": null,
   "metadata": {},
   "outputs": [],
   "source": [
    "station_cols = [ \"State\",\"Fuel Type Code\"]\n",
    "new_fuel_stations_df = fuel_stations_df[station_cols].copy()\n",
    "new_fuel_stations_df.head()"
   ]
  },
  {
   "cell_type": "markdown",
   "metadata": {},
   "source": [
    "# Transform New_Fuel_Stations Data Frame"
   ]
  },
  {
   "cell_type": "code",
   "execution_count": null,
   "metadata": {},
   "outputs": [],
   "source": [
    "# Rename Column Headers & Clean up Duplicates\n",
    "\n",
    "new_fuel_stations_df = new_fuel_stations_df.rename(columns={\"State\": \"state_abbr\",\n",
    "                                                           \"Fuel Type Code\": \"fuel_type\"})\n",
    "\n",
    "new_fuel_stations_df.head()"
   ]
  },
  {
   "cell_type": "code",
   "execution_count": null,
   "metadata": {},
   "outputs": [],
   "source": [
    "# Select all electric fuel types \n",
    "new_fuel_stations_df = new_fuel_stations_df[new_fuel_stations_df[\"fuel_type\"]==\"ELEC\"]\n",
    "\n",
    "new_fuel_stations_df.count()"
   ]
  },
  {
   "cell_type": "code",
   "execution_count": null,
   "metadata": {},
   "outputs": [],
   "source": [
    "#x = new_fuel_stations_df.count()\n",
    "\n",
    "#new_fuel_stations_df.set_index([1, x+1])\n",
    "\n",
    "#new_fuel_stations_df.reset_index(inplace=True)\n",
    "#new_fuel_stations_df.index.name = 'index'\n",
    "\n",
    "#new_fuel_stations_df.set_index(keys, drop=True, append=False, inplace=False, verify_integrity=False)\n",
    "# new_fuel_stations_df.head()\n",
    "\n",
    "# #new_fuel_stations_df['fuel_type'].count()"
   ]
  },
  {
   "cell_type": "code",
   "execution_count": null,
   "metadata": {},
   "outputs": [],
   "source": [
    "new_fuel_stations_df = new_fuel_stations_df.reset_index(drop=True)\n",
    "new_fuel_stations_df.head()"
   ]
  },
  {
   "cell_type": "markdown",
   "metadata": {},
   "source": [
    "# Create and transform Registrations Data Frame"
   ]
  },
  {
   "cell_type": "code",
   "execution_count": null,
   "metadata": {},
   "outputs": [],
   "source": [
    "csv_file = \"Resources/10962_ev_registration_counts_by_state.csv\"\n",
    "registration_df = pd.read_csv(csv_file,low_memory=False)\n",
    "registration_df.dtypes"
   ]
  },
  {
   "cell_type": "code",
   "execution_count": null,
   "metadata": {},
   "outputs": [],
   "source": [
    "registration_cols = [\"State\",\"Registration Count\"]\n",
    "new_registration_df= registration_df[registration_cols].copy()\n",
    "new_registration_df.head()"
   ]
  },
  {
   "cell_type": "code",
   "execution_count": null,
   "metadata": {},
   "outputs": [],
   "source": [
    "new_registration_df = new_registration_df.rename(columns={\"State\":\"state\",\n",
    "                                                         \"Registration Count\":\"registrations\"})\n",
    "new_registration_df.head()"
   ]
  },
  {
   "cell_type": "markdown",
   "metadata": {},
   "source": [
    "# Create and transform State Abbreviations Data Frame"
   ]
  },
  {
   "cell_type": "code",
   "execution_count": null,
   "metadata": {},
   "outputs": [],
   "source": [
    "csv_file = \"Resources/states.csv\"\n",
    "states_df= pd.read_csv(csv_file, low_memory=False)\n",
    "states_df.head()"
   ]
  },
  {
   "cell_type": "code",
   "execution_count": null,
   "metadata": {},
   "outputs": [],
   "source": [
    "new_state_df = states_df.rename(columns={\"US STATE\":\"state\",\n",
    "                                           \"ABBREVIATION\":\"state_abbr\"})\n",
    "new_state_df.head()"
   ]
  },
  {
   "cell_type": "markdown",
   "metadata": {},
   "source": [
    " # Create Database Connection"
   ]
  },
  {
   "cell_type": "code",
   "execution_count": null,
   "metadata": {},
   "outputs": [],
   "source": [
    "engine = create_engine(f'postgresql://{user}:{password}@{address}:{port}/{database}')\n",
    "\n",
    "conn = engine.connect()\n"
   ]
  },
  {
   "cell_type": "code",
   "execution_count": null,
   "metadata": {},
   "outputs": [],
   "source": [
    "engine.table_names()"
   ]
  },
  {
   "cell_type": "markdown",
   "metadata": {},
   "source": [
    "# Load DataFrames into database"
   ]
  },
  {
   "cell_type": "code",
   "execution_count": null,
   "metadata": {},
   "outputs": [],
   "source": [
    "\n",
    "new_fuel_stations_df.to_sql(name='fuel_stations', con = engine, if_exists='append', index=True)\n",
    "\n"
   ]
  },
  {
   "cell_type": "code",
   "execution_count": null,
   "metadata": {},
   "outputs": [],
   "source": [
    "new_registration_df.to_sql(name='registrations', con = engine, if_exists='append', index=True)"
   ]
  },
  {
   "cell_type": "code",
   "execution_count": null,
   "metadata": {},
   "outputs": [],
   "source": [
    "new_state_df.to_sql(name='state_abbreviations', con = engine, if_exists='append', index=True)"
   ]
  },
  {
   "cell_type": "code",
   "execution_count": null,
   "metadata": {},
   "outputs": [],
   "source": []
  }
 ],
 "metadata": {
  "kernelspec": {
   "display_name": "Python 3",
   "language": "python",
   "name": "python3"
  },
  "language_info": {
   "codemirror_mode": {
    "name": "ipython",
    "version": 3
   },
   "file_extension": ".py",
   "mimetype": "text/x-python",
   "name": "python",
   "nbconvert_exporter": "python",
   "pygments_lexer": "ipython3",
   "version": "3.6.10"
  }
 },
 "nbformat": 4,
 "nbformat_minor": 2
}
