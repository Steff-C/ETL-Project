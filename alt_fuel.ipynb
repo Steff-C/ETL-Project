{
 "cells": [
  {
   "cell_type": "code",
   "execution_count": null,
   "metadata": {},
   "outputs": [],
   "source": [
    "import pandas as pd\n",
    "from sqlalchemy import create_engine"
   ]
  },
  {
   "cell_type": "markdown",
   "metadata": {},
   "source": [
    "# Store CSV into Dataframe"
   ]
  },
  {
   "cell_type": "code",
   "execution_count": null,
   "metadata": {
    "scrolled": true
   },
   "outputs": [],
   "source": [
    "csv_file = \"Resources/Fuel Stations all Fuel Types USA.csv\"\n",
    "fuel_stations_df = pd.read_csv(csv_file,low_memory=False)\n",
    "fuel_stations_df.head()"
   ]
  },
  {
   "cell_type": "markdown",
   "metadata": {},
   "source": [
    "# Create new data Frame with columns"
   ]
  },
  {
   "cell_type": "code",
   "execution_count": null,
   "metadata": {},
   "outputs": [],
   "source": [
    "station_cols = [ \"State\",\"Fuel Type Code\"]\n",
    "new_fuel_stations_df = fuel_stations_df[station_cols].copy()\n",
    "new_fuel_stations_df.head()"
   ]
  },
  {
   "cell_type": "markdown",
   "metadata": {},
   "source": [
    "# Transform New_Fuel_Stations Data Frame"
   ]
  },
  {
   "cell_type": "code",
   "execution_count": null,
   "metadata": {},
   "outputs": [],
   "source": [
    "# Rename Column Headers & Clean up Duplicates\n",
    "\n",
    "new_fuel_stations_df = new_fuel_stations_df.rename(columns={\"State\": \"state\",\n",
    "                                                           \"Fuel Type Code\": \"fuel_type\"})\n",
    "\n",
    "new_fuel_stations_df.head()"
   ]
  },
  {
   "cell_type": "code",
   "execution_count": null,
   "metadata": {},
   "outputs": [],
   "source": [
    "# Select all electric fuel types \n",
    "new_fuel_stations_df = new_fuel_stations_df[new_fuel_stations_df[\"fuel_type\"]==\"ELEC\"]\n",
    "new_fuel_stations_df.head()"
   ]
  },
  {
   "cell_type": "code",
   "execution_count": null,
   "metadata": {},
   "outputs": [],
   "source": [
    "new_fuel_stations_df.count()"
   ]
  },
  {
   "cell_type": "code",
   "execution_count": null,
   "metadata": {},
   "outputs": [],
   "source": [
    "csv_file = \"Resources/10962_ev_registration_counts_by_state.csv\"\n",
    "registration_df = pd.read_csv(csv_file,low_memory=False)\n",
    "registration_df.head()"
   ]
  },
  {
   "cell_type": "code",
   "execution_count": null,
   "metadata": {},
   "outputs": [],
   "source": []
  },
  {
   "cell_type": "code",
   "execution_count": null,
   "metadata": {},
   "outputs": [],
   "source": []
  }
 ],
 "metadata": {
  "kernelspec": {
   "display_name": "Python 3",
   "language": "python",
   "name": "python3"
  },
  "language_info": {
   "codemirror_mode": {
    "name": "ipython",
    "version": 3
   },
   "file_extension": ".py",
   "mimetype": "text/x-python",
   "name": "python",
   "nbconvert_exporter": "python",
   "pygments_lexer": "ipython3",
   "version": "3.6.10"
  }
 },
 "nbformat": 4,
 "nbformat_minor": 2
}
